{
 "cells": [
  {
   "cell_type": "code",
   "execution_count": null,
   "outputs": [],
   "source": [
    "%matplotlib inline\n",
    "from mpl_toolkits.mplot3d.axes3d import Axes3D\n",
    "import matplotlib.pyplot as plt\n",
    "import numpy as np\n",
    "\n",
    "x = np.linspace(0, 20, 1000)\n",
    "y = np.sin(x)\n",
    "z = np.cos(x)\n",
    "\n",
    "fig =  plt.figure(figsize=(8,6))\n",
    "\n",
    "axes3d = Axes3D(fig)\n",
    "\n",
    "axes3d.plot(x,y,z)\n",
    "\n",
    "plt.xlabel('x', size=30)\n",
    "plt.ylabel('y', size=30)\n",
    "\n",
    "axes3d.set_zlabel('z', color='r', size=30)\n",
    "\n",
    "axes3d.set_yticks([-1, 0, 1])\n",
    "\n",
    "axes3d.set_yticklabels(['min', 0, 'max'])\n"
   ],
   "metadata": {
    "collapsed": false,
    "pycharm": {
     "name": "#%%\n"
    }
   }
  },
  {
   "cell_type": "code",
   "execution_count": null,
   "outputs": [],
   "source": [
    "%matplotlib inline\n",
    "from mpl_toolkits.mplot3d.axes3d import Axes3D\n",
    "import matplotlib.pyplot as plt\n",
    "import numpy as np\n",
    "\n",
    "fig = plt.figure()\n",
    "\n",
    "axes3d = Axes3D(fig)\n",
    "\n",
    "# !! 面\n",
    "x = np.linspace(-10, 10 , 100)\n",
    "y = np.linspace(-10 , 10 , 100)\n",
    "z = np.linspace(-10 , 10 , 100)\n",
    "\n",
    "X, Y = np.meshgrid(x, y)\n",
    "\n",
    "axes3d.plot_surface(X,Y, -X + 2*Y + 1)\n",
    "\n",
    "X, Z = np.meshgrid(x, z)\n",
    "axes3d.plot_surface(X,2 * X, Z)\n",
    "\n",
    "X, Y = np.meshgrid(x, y)\n",
    "axes3d.plot_surface(X,Y, 1 - 3 * Y / 4)"
   ],
   "metadata": {
    "collapsed": false,
    "pycharm": {
     "name": "#%%\n"
    }
   }
  }
 ],
 "metadata": {
  "kernelspec": {
   "name": "python3",
   "language": "python",
   "display_name": "Python 3"
  },
  "language_info": {
   "codemirror_mode": {
    "name": "ipython",
    "version": 2
   },
   "file_extension": ".py",
   "mimetype": "text/x-python",
   "name": "python",
   "nbconvert_exporter": "python",
   "pygments_lexer": "ipython2",
   "version": "2.7.6"
  },
  "pycharm": {
   "stem_cell": {
    "cell_type": "raw",
    "source": [],
    "metadata": {
     "collapsed": false
    }
   }
  }
 },
 "nbformat": 4,
 "nbformat_minor": 0
}